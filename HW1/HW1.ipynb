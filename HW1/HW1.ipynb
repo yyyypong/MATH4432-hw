{
 "cells": [
  {
   "cell_type": "markdown",
   "metadata": {},
   "source": [
    "# Chapter 2\n",
    "\n",
    "### question 1\n",
    "\n",
    "Consider the gound truth model\n",
    "$$\n",
    "y = \\sin \\left(2 x_1\\right).\n",
    "$$\n",
    "Generate $n_{\\text{train}} = 50$ training samples with random noise $\\mathcal{N}(0, 0.5^2)$ and test data with sample size $n_{\\text{test}} = 500$.\n",
    "Suppose there are $p$ predictors $\\left\\{x_i\\right\\}_{i=1}^p$, where $\\left\\{x_j: j \\neq 1\\right\\}$ is a set of noisy predictors that are unrelated to $y$.\n",
    "Apply linear regression and KNN regression to predict $y$ in the test set and analyze the bias-variance trade-off for both models.\n",
    "Vary $p \\in \\{1, 2, 3, 4, 10, 20\\}$ and $k = 1, \\ldots, 9$ for KNN.\n",
    "Visualize the patterns of bias-variance trade-off.\n",
    "For your reference, the pattern of mean square error should be similar to FIGURE 3.20 (page 110) in the reference book."
   ]
  },
  {
   "cell_type": "code",
   "execution_count": null,
   "metadata": {},
   "outputs": [],
   "source": []
  },
  {
   "cell_type": "markdown",
   "metadata": {},
   "source": [
    "### question 3\n",
    "\n",
    "Consider the gound truth model\n",
    "$$\n",
    "y = \\sin \\left(2 x_1\\right).\n",
    "$$\n",
    "Generate $n_{\\text{train}} = 50$ training samples with random noise $\\mathcal{N}(0, 0.5^2)$ and test data with sample size $n_{\\text{test}} = 500$.\n",
    "Suppose there are $p$ predictors $\\left\\{x_i\\right\\}_{i=1}^p$, where $\\left\\{x_j: j \\neq 1\\right\\}$ is a set of noisy predictors that are unrelated to $y$.\n",
    "Apply linear regression and KNN regression to predict $y$ in the test set and analyze the bias-variance trade-off for both models.\n",
    "Vary $p \\in \\{1, 2, 3, 4, 10, 20\\}$ and $k = 1, \\ldots, 9$ for KNN.\n",
    "Visualize the patterns of bias-variance trade-off.\n",
    "For your reference, the pattern of mean square error should be similar to FIGURE 3.20 (page 110) in the reference book."
   ]
  },
  {
   "cell_type": "code",
   "execution_count": null,
   "metadata": {},
   "outputs": [],
   "source": []
  }
 ],
 "metadata": {
  "language_info": {
   "name": "python"
  }
 },
 "nbformat": 4,
 "nbformat_minor": 2
}
